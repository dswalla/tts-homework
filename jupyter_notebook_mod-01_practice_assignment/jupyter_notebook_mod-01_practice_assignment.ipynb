{
 "cells": [
  {
   "cell_type": "markdown",
   "id": "85de628a-3732-405a-b4f6-5670534ac9de",
   "metadata": {},
   "source": [
    "# Jupyter Notebook Mod 01: Practice Assignment!"
   ]
  },
  {
   "cell_type": "markdown",
   "id": "cb3af99a-4897-4c4f-aed3-859d857911f8",
   "metadata": {},
   "source": [
    "1. Accept the user's first and last name and print them in reverse order with a space between them    "
   ]
  },
  {
   "cell_type": "code",
   "execution_count": 1,
   "id": "29667245-1e33-4e54-b4f7-f06e1b164a15",
   "metadata": {},
   "outputs": [
    {
     "name": "stdin",
     "output_type": "stream",
     "text": [
      " Derek\n",
      " Wallace\n"
     ]
    },
    {
     "name": "stdout",
     "output_type": "stream",
     "text": [
      "Wallace Derek\n"
     ]
    }
   ],
   "source": [
    "first = input()\n",
    "last = input()\n",
    "print(last, first)"
   ]
  },
  {
   "cell_type": "markdown",
   "id": "035581d3-c6bd-4513-9142-73f28b2c46f1",
   "metadata": {},
   "source": [
    "2. Accept an integer (n) input from the user and compute the value of n+nn+nnn. For example if n=4 then n + nn + nnn = 4 + 44 + 444 = 492"
   ]
  },
  {
   "cell_type": "code",
   "execution_count": 2,
   "id": "ee5224e6-0b22-429b-91aa-520da1dfa167",
   "metadata": {},
   "outputs": [
    {
     "name": "stdin",
     "output_type": "stream",
     "text": [
      " 4\n"
     ]
    },
    {
     "name": "stdout",
     "output_type": "stream",
     "text": [
      "492\n"
     ]
    }
   ],
   "source": [
    "n = input()\n",
    "value = int(n) + int(n + n) + int(n + n + n)\n",
    "print(value)"
   ]
  },
  {
   "cell_type": "markdown",
   "id": "3717ef51-bd31-4bf3-82ca-3afe674f5a9c",
   "metadata": {},
   "source": [
    "3. Ask the user \"What country are you from?\" then print the following statement: \"I have heard that [input] is a beautiful country!\""
   ]
  },
  {
   "cell_type": "code",
   "execution_count": 3,
   "id": "6071e19b-7f3f-4dec-b8de-3101e9bea2e1",
   "metadata": {},
   "outputs": [
    {
     "name": "stdout",
     "output_type": "stream",
     "text": [
      "What country are you from?\n"
     ]
    },
    {
     "name": "stdin",
     "output_type": "stream",
     "text": [
      " Sweden\n"
     ]
    },
    {
     "name": "stdout",
     "output_type": "stream",
     "text": [
      "I have heard that Sweden is a beautiful country!\n"
     ]
    }
   ],
   "source": [
    "print(\"What country are you from?\")\n",
    "country = input()\n",
    "print(\"I have heard that\", country, \"is a beautiful country!\")"
   ]
  },
  {
   "cell_type": "markdown",
   "id": "80cf3a39-d3fb-4f42-a9a9-e4af82512ea7",
   "metadata": {},
   "source": [
    "4. What is the output of the following Python code"
   ]
  },
  {
   "cell_type": "code",
   "execution_count": 5,
   "id": "e61ad6aa-9654-43e0-a6e7-928bd51dc86e",
   "metadata": {},
   "outputs": [],
   "source": [
    "x = 10\n",
    "y = 50\n",
    "if (x ** 2 > 100 and y < 100):\n",
    "    print(x, y)"
   ]
  },
  {
   "cell_type": "markdown",
   "id": "d1cf3a8a-3043-4b84-965a-7ba41945979a",
   "metadata": {},
   "source": [
    "There is no output because 10 ** 10 is equal to 100, which is not greater than 100, so the first condition of the conditional fails."
   ]
  },
  {
   "cell_type": "markdown",
   "id": "d3c8c1ed-9a55-4a25-9f56-cadea925e896",
   "metadata": {},
   "source": [
    "5. What is the output of the following addition (+) operator, and why does this code chunk execute this way?"
   ]
  },
  {
   "cell_type": "code",
   "execution_count": 6,
   "id": "05e9e5cf-06c7-41d4-8695-93c62e1bd72f",
   "metadata": {},
   "outputs": [
    {
     "name": "stdout",
     "output_type": "stream",
     "text": [
      "[10, 20, 30, 40]\n",
      "[10, 20, 30, 40]\n"
     ]
    }
   ],
   "source": [
    "a = [10, 20]\n",
    "b = a\n",
    "b += [30, 40]\n",
    "print(a)\n",
    "print(b)"
   ]
  },
  {
   "cell_type": "markdown",
   "id": "f1ede208-4fe3-4169-b189-b7027d9d481c",
   "metadata": {},
   "source": [
    "The addition operator concatenates the second array to the first, making it \\[10, 20, 30, 40\\]. Printing both a and b returns the same array because b was assigned to a (b = a), referencing the same underlying data."
   ]
  },
  {
   "cell_type": "markdown",
   "id": "5a50ba59-cc7d-434a-a966-0346f73d1f28",
   "metadata": {},
   "source": [
    "6. What is the output of the following code and what arithmetic operators is being used here? print(2%6)"
   ]
  },
  {
   "cell_type": "code",
   "execution_count": 7,
   "id": "13769571-a990-4f7c-b9c9-f946edc1517a",
   "metadata": {},
   "outputs": [
    {
     "name": "stdout",
     "output_type": "stream",
     "text": [
      "2\n"
     ]
    }
   ],
   "source": [
    "print(2%6)"
   ]
  },
  {
   "cell_type": "markdown",
   "id": "cfb05a44-82f8-4472-9606-55b151721cfc",
   "metadata": {},
   "source": [
    "The code outputs \"2\" because the modulo operator is being used. The statement 2 % 6 essentially evaluates 2 divided by 6 and returns the remainder."
   ]
  },
  {
   "cell_type": "markdown",
   "id": "384141c8-15b5-4933-b119-8cc51df9391d",
   "metadata": {},
   "source": [
    "7. What is the output of the following code and what arithmetic operators are used here? print(2 * 3 ** 3 * 4)"
   ]
  },
  {
   "cell_type": "code",
   "execution_count": 8,
   "id": "c19fd026-5775-489c-b48a-d0ed8b6e42d6",
   "metadata": {},
   "outputs": [
    {
     "name": "stdout",
     "output_type": "stream",
     "text": [
      "216\n"
     ]
    }
   ],
   "source": [
    "print(2*3**3*4)"
   ]
  },
  {
   "cell_type": "markdown",
   "id": "c6d660ff-2ea8-438f-891a-7fd2a2075628",
   "metadata": {},
   "source": [
    "The code outputs \"216\" using the traditional order of operations for math. The \"\\*\" character is the multiplication operator and the \"\\*\\*\" operator is exponent."
   ]
  },
  {
   "cell_type": "markdown",
   "id": "4cce4091-1537-40e7-8487-79f84067befe",
   "metadata": {},
   "source": [
    "8. What is a text editor?"
   ]
  },
  {
   "cell_type": "markdown",
   "id": "d5b627aa-468a-4c29-8a87-4333228c217e",
   "metadata": {},
   "source": [
    "A text editor is any software environment that allows users to edit text files."
   ]
  },
  {
   "cell_type": "markdown",
   "id": "415f5844-4be2-400d-8c9a-96a2da5a60c3",
   "metadata": {},
   "source": [
    "9. What is python?"
   ]
  },
  {
   "cell_type": "markdown",
   "id": "b53f4d65-243a-4d20-82d0-892bb57a795f",
   "metadata": {},
   "source": [
    "Python is an interpreted programming language that we are learning and eventually going to be using for data science."
   ]
  },
  {
   "cell_type": "markdown",
   "id": "b258989d-fb73-41e3-98a3-7cf971fe2d01",
   "metadata": {},
   "source": [
    "10. What is jupyter notebook, what type of python environment is it, and what alternatives are there to jupyter notebook?"
   ]
  },
  {
   "cell_type": "markdown",
   "id": "e9b9376b-d673-4c7d-821e-683015df2ad6",
   "metadata": {},
   "source": [
    "Jupyter Notebook is an environment in which all sorts of files (primarily .ipynb in my experience) can be created and edited that we are using to learn Python. The Python notebooks that can be created with it are a combination of Python code and Markdown that allows us to code in Python while simultaneously creating a document for showcasing something. For example, I am using a Jupyter Lab server hosted on my own computer to create this homework document for TTS. Other alternatives would be some sort of Python IDE like PyCharm, VS Code, or just a plain text editor like vim and using the terminal to run the notebook files."
   ]
  }
 ],
 "metadata": {
  "kernelspec": {
   "display_name": "Python 3 (ipykernel)",
   "language": "python",
   "name": "python3"
  },
  "language_info": {
   "codemirror_mode": {
    "name": "ipython",
    "version": 3
   },
   "file_extension": ".py",
   "mimetype": "text/x-python",
   "name": "python",
   "nbconvert_exporter": "python",
   "pygments_lexer": "ipython3",
   "version": "3.10.5"
  }
 },
 "nbformat": 4,
 "nbformat_minor": 5
}
