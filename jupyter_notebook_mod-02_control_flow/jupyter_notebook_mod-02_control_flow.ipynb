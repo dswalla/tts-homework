{
 "cells": [
  {
   "cell_type": "markdown",
   "id": "fcda9e36-ad5d-455d-986e-e5c6eebdc89e",
   "metadata": {},
   "source": [
    "# Control Flow Exercises"
   ]
  },
  {
   "cell_type": "markdown",
   "id": "291c2f37-2a27-4d45-8cb9-2f70c74fc471",
   "metadata": {},
   "source": [
    "## Exercise 1"
   ]
  },
  {
   "cell_type": "markdown",
   "id": "2d757c93-e519-4575-9f84-fd133ea2b5a6",
   "metadata": {},
   "source": [
    "Guess a number between 1 to 9 given by the user"
   ]
  },
  {
   "cell_type": "code",
   "execution_count": 1,
   "id": "027efb78-d176-4d40-bba5-e0803b45e904",
   "metadata": {},
   "outputs": [
    {
     "name": "stdin",
     "output_type": "stream",
     "text": [
      "Guess a number between 1 and 9 until you get it right: 1\n",
      "Guess a number between 1 and 9 until you get it right: 2\n",
      "Guess a number between 1 and 9 until you get it right: 3\n",
      "Guess a number between 1 and 9 until you get it right: 4\n",
      "Guess a number between 1 and 9 until you get it right: 5\n"
     ]
    },
    {
     "name": "stdout",
     "output_type": "stream",
     "text": [
      "You got it!\n"
     ]
    }
   ],
   "source": [
    "from math import ceil\n",
    "from random import random\n",
    "\n",
    "num = ceil(random() * 9)\n",
    "guess = int(input(\"Guess a number between 1 and 9 until you get it right:\"))\n",
    "while guess != num:\n",
    "    guess = int(input(\"Guess a number between 1 and 9 until you get it right:\"))\n",
    "\n",
    "print(\"You got it!\")"
   ]
  },
  {
   "cell_type": "markdown",
   "id": "b3fe16bb-d9c5-425b-84a6-bc950d7b541b",
   "metadata": {},
   "source": [
    "## Exercise 2"
   ]
  },
  {
   "cell_type": "markdown",
   "id": "7dc0053a-507d-4926-ae8a-29836d0f6a6b",
   "metadata": {},
   "source": [
    "Check the validity of password input by the user.\n",
    "\n",
    "Validation:\n",
    "\n",
    "    At least 1 letter between [a-z] and 1 letter between [A-Z]\n",
    "    At least 1 number between [0-9]\n",
    "    At least 1 character from [$#@]\n",
    "    Minimum length 6 characters\n",
    "    Maximum length 16 characters"
   ]
  },
  {
   "cell_type": "code",
   "execution_count": 2,
   "id": "e3f853be-178d-4478-bbe6-6bfc5788e973",
   "metadata": {},
   "outputs": [
    {
     "name": "stdin",
     "output_type": "stream",
     "text": [
      "Input your password: aB123$\n"
     ]
    },
    {
     "name": "stdout",
     "output_type": "stream",
     "text": [
      "Valid Password\n"
     ]
    }
   ],
   "source": [
    "password = input(\"Input your password:\")\n",
    "\n",
    "lower = any(c.islower() for c in password)\n",
    "upper = any(c.isupper() for c in password)\n",
    "digit = any(c.isdigit() for c in password)\n",
    "special = any(c in ['$', '#', '@'] for c in password)\n",
    "length = len(password)\n",
    "\n",
    "if not lower:\n",
    "    print(\"No [a-z]\")\n",
    "elif not upper:\n",
    "    print(\"No [A-Z]\")\n",
    "elif not digit:\n",
    "    print(\"No [0-9]\")\n",
    "elif not special:\n",
    "    print(\"No [$#@]\")\n",
    "elif (length > 16) or (length < 6):\n",
    "    print(\"Password must be between 6 - 16 characters\")\n",
    "else:\n",
    "    print(\"Valid Password\")"
   ]
  },
  {
   "cell_type": "markdown",
   "id": "0d131e8a-8dea-409c-8eb5-a89a8b0a0316",
   "metadata": {},
   "source": [
    "## Exercise 3"
   ]
  },
  {
   "cell_type": "markdown",
   "id": "02e248a3-2357-4b56-9402-5e8ba7118327",
   "metadata": {},
   "source": [
    "Get input of the age of 3 people by user and determine oldest and youngest among them"
   ]
  },
  {
   "cell_type": "code",
   "execution_count": 3,
   "id": "74e50303-00b7-40d0-9f25-43bbffc125c2",
   "metadata": {},
   "outputs": [
    {
     "name": "stdin",
     "output_type": "stream",
     "text": [
      "Enter First Person's Age :  9\n",
      "Enter Second Person's Age :  31\n",
      "Enter Third Person's Age :  74\n"
     ]
    },
    {
     "name": "stdout",
     "output_type": "stream",
     "text": [
      "The oldest person is 74\n",
      "The youngest person is 9\n"
     ]
    }
   ],
   "source": [
    "number1 = int(input(\"Enter First Person's Age : \"))\n",
    "number2 = int(input(\"Enter Second Person's Age : \"))\n",
    "number3 = int(input(\"Enter Third Person's Age : \"))\n",
    "\n",
    "ages = [number1, number2, number3]\n",
    "print(\"The oldest person is\", max(ages))\n",
    "print(\"The youngest person is\", min(ages))"
   ]
  },
  {
   "cell_type": "markdown",
   "id": "5adb0b87-6d47-4f35-99e8-fd2918b6ef4b",
   "metadata": {},
   "source": [
    "## Exercise 4"
   ]
  },
  {
   "cell_type": "markdown",
   "id": "e801c7e2-5156-4b7b-a9b4-f7f5e3382572",
   "metadata": {},
   "source": [
    "A student will not be allowed to sit in exam if his/her attendance is less than 75%.\n",
    "\n",
    "Take following input from user\n",
    "\n",
    "    Number of classes held\n",
    "    Number of classes attended.\n",
    "    And print\n",
    "    percentage of class attended\n",
    "\n",
    "Is student is allowed to sit in exam or not?"
   ]
  },
  {
   "cell_type": "code",
   "execution_count": 4,
   "id": "3708b7ec-5452-40f6-94e4-c130602fd2db",
   "metadata": {},
   "outputs": [
    {
     "name": "stdin",
     "output_type": "stream",
     "text": [
      "Please enter the number of classes held: 15\n",
      "Please enter the number of classes attended: 11\n"
     ]
    },
    {
     "name": "stdout",
     "output_type": "stream",
     "text": [
      "The attendance percentage is  0.7333333333333333\n",
      "The student may not sit in exam\n"
     ]
    }
   ],
   "source": [
    "classes = input(\"Please enter the number of classes held:\")\n",
    "attended =  input (\"Please enter the number of classes attended:\")\n",
    "\n",
    "percentage = int(attended) / int(classes)\n",
    "print(\"The attendance percentage is \", percentage)\n",
    "\n",
    "if percentage < 0.75:\n",
    "    print(\"The student may not sit in exam\")\n",
    "else:\n",
    "    print(\"The student may sit in exam\")"
   ]
  },
  {
   "cell_type": "markdown",
   "id": "e535aadb-ed91-4e3f-a3b9-0d530ca45422",
   "metadata": {},
   "source": [
    "## Exercise 5"
   ]
  },
  {
   "cell_type": "markdown",
   "id": "e41163c1-9eff-4de6-8dab-5763e0d6e221",
   "metadata": {},
   "source": [
    "Get an integer N from the user and perform the following actions:\n",
    "\n",
    "    if N is odd, print \"weird\"\n",
    "    if N is even and in the inclusive range of 2 to 5, print \"Not Weird\"\n",
    "    if N is even and in the inclusive range of 6 to 20, print \"Weird\"\n",
    "    if N is even and greater than 20, print \"Not Weird\""
   ]
  },
  {
   "cell_type": "code",
   "execution_count": 5,
   "id": "90781376-ceab-401c-bc95-795ea68d2a0c",
   "metadata": {},
   "outputs": [
    {
     "name": "stdin",
     "output_type": "stream",
     "text": [
      "Input a number to discover if you are weird or not weird:  20\n"
     ]
    },
    {
     "name": "stdout",
     "output_type": "stream",
     "text": [
      "Weird\n"
     ]
    }
   ],
   "source": [
    "n = int(input(\"Input a number to discover if you are weird or not weird: \"))\n",
    "\n",
    "if n % 2:\n",
    "    print(\"Weird\")\n",
    "else:\n",
    "    if n in range(6, 21):\n",
    "        print(\"Weird\")\n",
    "    else:\n",
    "        print(\"Not Weird\")"
   ]
  }
 ],
 "metadata": {
  "kernelspec": {
   "display_name": "Python 3 (ipykernel)",
   "language": "python",
   "name": "python3"
  },
  "language_info": {
   "codemirror_mode": {
    "name": "ipython",
    "version": 3
   },
   "file_extension": ".py",
   "mimetype": "text/x-python",
   "name": "python",
   "nbconvert_exporter": "python",
   "pygments_lexer": "ipython3",
   "version": "3.10.5"
  }
 },
 "nbformat": 4,
 "nbformat_minor": 5
}
