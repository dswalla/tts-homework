{
 "cells": [
  {
   "cell_type": "markdown",
   "id": "6ad33dad-bde5-49f1-8a27-85a702ca60a4",
   "metadata": {},
   "source": [
    "# Data Structures Exercises"
   ]
  },
  {
   "cell_type": "markdown",
   "id": "92f50fb4-f9f5-4775-be53-088d2625ffaa",
   "metadata": {},
   "source": [
    "## Exercise 1"
   ]
  },
  {
   "cell_type": "markdown",
   "id": "bb2cc0b1-eb53-4732-8ace-69053a8be28e",
   "metadata": {},
   "source": [
    "In mathematics, the quadratic equation ax2+bx+c=0 can be solved with the formula x=−b±b2−4ac√2a.\n",
    "\n",
    "Write a function solve_quadratic, that returns both solutions of a generic quadratic as a pair (2-tuple) when the coefficients are given as parameters. It should work like this:"
   ]
  },
  {
   "cell_type": "code",
   "execution_count": 1,
   "id": "09fa7369-0a56-4246-a984-d3517b80e967",
   "metadata": {},
   "outputs": [],
   "source": [
    "# print(solve_quadratic(1,-3,2))\n",
    "# (2.0,1.0)\n",
    "# print(solve_quadratic(1,2,1))\n",
    "# (-1.0,-1.0)"
   ]
  },
  {
   "cell_type": "markdown",
   "id": "e7bd8942-2ac9-43e4-98d7-81b1cd00fce3",
   "metadata": {},
   "source": [
    "You may want to use the math.sqrt function from the math module in your solution. Test that your function works in the main function!"
   ]
  },
  {
   "cell_type": "code",
   "execution_count": 2,
   "id": "4e9c1a87-99c8-4209-aa32-719ecb89e589",
   "metadata": {},
   "outputs": [],
   "source": [
    "import math\n",
    "\n",
    "def solve_quadratic(a, b, c):\n",
    "    numerator_1 = -b + math.sqrt((b**2) - 4*a*c)\n",
    "    numerator_2 = -b - math.sqrt((b**2) - 4*a*c)\n",
    "    solution_1 = numerator_1 / (2*a)\n",
    "    solution_2 = numerator_2 / (2*a)\n",
    "    return (solution_1, solution_2)"
   ]
  },
  {
   "cell_type": "code",
   "execution_count": 3,
   "id": "0780d173-b317-4649-a1d0-79f684376650",
   "metadata": {},
   "outputs": [
    {
     "name": "stdout",
     "output_type": "stream",
     "text": [
      "(2.0, 1.0)\n",
      "(-1.0, -1.0)\n"
     ]
    }
   ],
   "source": [
    "print(solve_quadratic(1, -3, 2))\n",
    "print(solve_quadratic(1, 2, 1))"
   ]
  },
  {
   "cell_type": "markdown",
   "id": "07cb9111-b12a-41e0-af88-2845a0dc0eb1",
   "metadata": {},
   "source": [
    "## Exercise 2"
   ]
  },
  {
   "cell_type": "markdown",
   "id": "ec2825c8-431e-4468-a59b-1c68c0f1c730",
   "metadata": {},
   "source": [
    "Get a space-separated list of integers from the user, create a tuple of those integers. Then compute and print the result of hash(tuple).\n",
    "\n",
    "Documentation: hash():"
   ]
  },
  {
   "cell_type": "code",
   "execution_count": 4,
   "id": "599a1fd9-cf64-4165-9dd0-0282099346a3",
   "metadata": {},
   "outputs": [
    {
     "name": "stdin",
     "output_type": "stream",
     "text": [
      " 1 3 4\n"
     ]
    },
    {
     "name": "stdout",
     "output_type": "stream",
     "text": [
      "-1070212610609621906\n"
     ]
    }
   ],
   "source": [
    "x_list = input()\n",
    "\n",
    "numbers = tuple(int(x) for x in x_list.split())\n",
    "print(hash(numbers))"
   ]
  },
  {
   "cell_type": "markdown",
   "id": "8f45eaba-43a1-49dd-b7a4-ac6e8460e28e",
   "metadata": {},
   "source": [
    "## Exercise 3"
   ]
  },
  {
   "cell_type": "markdown",
   "id": "6baa846b-5a2a-41be-a428-e1f77839b1ad",
   "metadata": {},
   "source": [
    "Take the following two lists. Create a third list by picking a odd-index elements from the first list and even-index elements from the second."
   ]
  },
  {
   "cell_type": "code",
   "execution_count": 5,
   "id": "7b3aa37a-9cb3-4362-ae32-dafe2f486090",
   "metadata": {},
   "outputs": [],
   "source": [
    "listOne = [3, 6, 9, 12, 15, 18, 21]\n",
    "listTwo = [4, 8, 12, 16, 20, 24, 28]"
   ]
  },
  {
   "cell_type": "code",
   "execution_count": 6,
   "id": "40224fff-3157-4b8b-b9c9-f195b410da8c",
   "metadata": {},
   "outputs": [
    {
     "name": "stdout",
     "output_type": "stream",
     "text": [
      "[4, 6, 12, 12, 18, 20, 28]\n"
     ]
    }
   ],
   "source": [
    "listThree = sorted(listOne[1::2] + listTwo[::2])\n",
    "print(listThree)"
   ]
  },
  {
   "cell_type": "markdown",
   "id": "7c16c548-b260-4574-8750-0a3dc9bad598",
   "metadata": {},
   "source": [
    "## Exercise 4"
   ]
  },
  {
   "cell_type": "markdown",
   "id": "770fce33-b46c-4b40-bdc6-7096724fcbbd",
   "metadata": {},
   "source": [
    "Take the following list. Slice it into three equal chunks and reverse each list."
   ]
  },
  {
   "cell_type": "code",
   "execution_count": 7,
   "id": "a7e28ae9-9c2c-4e31-a331-7c281336190c",
   "metadata": {},
   "outputs": [],
   "source": [
    "sampleList = [11, 45, 8, 23, 14, 12, 78, 45, 89]"
   ]
  },
  {
   "cell_type": "code",
   "execution_count": 8,
   "id": "ef7c4f0d-4e9e-43c2-94a2-206668086e25",
   "metadata": {},
   "outputs": [
    {
     "name": "stdout",
     "output_type": "stream",
     "text": [
      "[8, 45, 11] [12, 14, 23] [89, 45, 78]\n"
     ]
    }
   ],
   "source": [
    "sublist_n = int(len(sampleList) / 3)\n",
    "i_1 = 0 + sublist_n\n",
    "i_2 = i_1 + sublist_n\n",
    "\n",
    "sublist_1 = sampleList[0:i_1]\n",
    "sublist_2 = sampleList[i_1:i_2]\n",
    "sublist_3 = sampleList[i_2:]\n",
    "\n",
    "sublist_1.reverse()\n",
    "sublist_2.reverse()\n",
    "sublist_3.reverse()\n",
    "print(sublist_1, sublist_2 , sublist_3)"
   ]
  },
  {
   "cell_type": "markdown",
   "id": "9b51b7d0-d2e4-4334-9637-399f7af37f02",
   "metadata": {},
   "source": [
    "## Exercise 5"
   ]
  },
  {
   "cell_type": "markdown",
   "id": "5b84b30c-3a5f-4b43-9705-8ab3bab8a92a",
   "metadata": {},
   "source": [
    "Iterate through a given list and check if a given element already exists in a dictionary as a key’s value. If not, delete it from the list."
   ]
  },
  {
   "cell_type": "code",
   "execution_count": 9,
   "id": "846620df-0662-4a36-a6a1-126baf1cd46f",
   "metadata": {},
   "outputs": [],
   "source": [
    "rollNumber = [47, 64, 69, 37, 76, 83, 95, 97]\n",
    "sampleDict ={'Zach':47, 'Emma':69, 'Kelly':76, 'Jason':97}"
   ]
  },
  {
   "cell_type": "code",
   "execution_count": 10,
   "id": "446e049f-ad04-46b9-ac2a-75329b3e7e5a",
   "metadata": {},
   "outputs": [
    {
     "name": "stdout",
     "output_type": "stream",
     "text": [
      "[47, 69, 76, 95, 97]\n"
     ]
    }
   ],
   "source": [
    "for x in rollNumber:\n",
    "    if x not in sampleDict.values():\n",
    "        rollNumber.remove(x)\n",
    "        \n",
    "print(rollNumber)"
   ]
  }
 ],
 "metadata": {
  "kernelspec": {
   "display_name": "Python 3 (ipykernel)",
   "language": "python",
   "name": "python3"
  },
  "language_info": {
   "codemirror_mode": {
    "name": "ipython",
    "version": 3
   },
   "file_extension": ".py",
   "mimetype": "text/x-python",
   "name": "python",
   "nbconvert_exporter": "python",
   "pygments_lexer": "ipython3",
   "version": "3.10.5"
  }
 },
 "nbformat": 4,
 "nbformat_minor": 5
}
